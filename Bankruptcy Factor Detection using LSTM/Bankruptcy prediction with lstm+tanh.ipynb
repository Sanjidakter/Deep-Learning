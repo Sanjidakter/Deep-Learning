{
 "cells": [
  {
   "cell_type": "code",
   "execution_count": 1,
   "id": "3dbb5e5d",
   "metadata": {},
   "outputs": [],
   "source": [
    "# Long Short Term Memory\n",
    "# Part 1 - Data Preprocessing\n",
    "# Importing the libraries\n",
    "import numpy as np\n",
    "import matplotlib.pyplot as plt\n",
    "import pandas as pd"
   ]
  },
  {
   "cell_type": "code",
   "execution_count": 2,
   "id": "fe92b64a",
   "metadata": {},
   "outputs": [
    {
     "data": {
      "text/html": [
       "<div>\n",
       "<style scoped>\n",
       "    .dataframe tbody tr th:only-of-type {\n",
       "        vertical-align: middle;\n",
       "    }\n",
       "\n",
       "    .dataframe tbody tr th {\n",
       "        vertical-align: top;\n",
       "    }\n",
       "\n",
       "    .dataframe thead th {\n",
       "        text-align: right;\n",
       "    }\n",
       "</style>\n",
       "<table border=\"1\" class=\"dataframe\">\n",
       "  <thead>\n",
       "    <tr style=\"text-align: right;\">\n",
       "      <th></th>\n",
       "      <th>C1</th>\n",
       "      <th>C2</th>\n",
       "      <th>C3</th>\n",
       "      <th>A1</th>\n",
       "      <th>A2</th>\n",
       "      <th>A3</th>\n",
       "      <th>A4</th>\n",
       "      <th>A5</th>\n",
       "      <th>M1</th>\n",
       "      <th>E1</th>\n",
       "      <th>...</th>\n",
       "      <th>E3</th>\n",
       "      <th>E4</th>\n",
       "      <th>E5</th>\n",
       "      <th>L1</th>\n",
       "      <th>L2</th>\n",
       "      <th>S1</th>\n",
       "      <th>S2</th>\n",
       "      <th>S3</th>\n",
       "      <th>S4</th>\n",
       "      <th>level</th>\n",
       "    </tr>\n",
       "  </thead>\n",
       "  <tbody>\n",
       "    <tr>\n",
       "      <th>0</th>\n",
       "      <td>13444</td>\n",
       "      <td>2807</td>\n",
       "      <td>8643</td>\n",
       "      <td>384</td>\n",
       "      <td>11469</td>\n",
       "      <td>1934</td>\n",
       "      <td>1934.0</td>\n",
       "      <td>0</td>\n",
       "      <td>13224.0</td>\n",
       "      <td>404</td>\n",
       "      <td>...</td>\n",
       "      <td>160</td>\n",
       "      <td>6</td>\n",
       "      <td>140</td>\n",
       "      <td>24</td>\n",
       "      <td>34</td>\n",
       "      <td>23.0</td>\n",
       "      <td>21.72</td>\n",
       "      <td>1922.0</td>\n",
       "      <td>1223</td>\n",
       "      <td>1</td>\n",
       "    </tr>\n",
       "    <tr>\n",
       "      <th>1</th>\n",
       "      <td>39028</td>\n",
       "      <td>4771</td>\n",
       "      <td>27065</td>\n",
       "      <td>1326</td>\n",
       "      <td>36049</td>\n",
       "      <td>2665</td>\n",
       "      <td>2665.0</td>\n",
       "      <td>574</td>\n",
       "      <td>38197.5</td>\n",
       "      <td>4033</td>\n",
       "      <td>...</td>\n",
       "      <td>397</td>\n",
       "      <td>32</td>\n",
       "      <td>323</td>\n",
       "      <td>40</td>\n",
       "      <td>102</td>\n",
       "      <td>71.0</td>\n",
       "      <td>65.80</td>\n",
       "      <td>2629.5</td>\n",
       "      <td>1316</td>\n",
       "      <td>1</td>\n",
       "    </tr>\n",
       "    <tr>\n",
       "      <th>2</th>\n",
       "      <td>46088</td>\n",
       "      <td>12044</td>\n",
       "      <td>29959</td>\n",
       "      <td>894</td>\n",
       "      <td>42451</td>\n",
       "      <td>3275</td>\n",
       "      <td>3275.0</td>\n",
       "      <td>236</td>\n",
       "      <td>46075.5</td>\n",
       "      <td>443</td>\n",
       "      <td>...</td>\n",
       "      <td>694</td>\n",
       "      <td>30</td>\n",
       "      <td>461</td>\n",
       "      <td>60</td>\n",
       "      <td>300</td>\n",
       "      <td>183.0</td>\n",
       "      <td>183.00</td>\n",
       "      <td>3444.0</td>\n",
       "      <td>2013</td>\n",
       "      <td>1</td>\n",
       "    </tr>\n",
       "    <tr>\n",
       "      <th>3</th>\n",
       "      <td>14247</td>\n",
       "      <td>9878</td>\n",
       "      <td>3213</td>\n",
       "      <td>54</td>\n",
       "      <td>11997</td>\n",
       "      <td>1872</td>\n",
       "      <td>1872.0</td>\n",
       "      <td>0</td>\n",
       "      <td>14619.5</td>\n",
       "      <td>272</td>\n",
       "      <td>...</td>\n",
       "      <td>125</td>\n",
       "      <td>0</td>\n",
       "      <td>94</td>\n",
       "      <td>5</td>\n",
       "      <td>49</td>\n",
       "      <td>44.0</td>\n",
       "      <td>40.68</td>\n",
       "      <td>1850.0</td>\n",
       "      <td>318</td>\n",
       "      <td>1</td>\n",
       "    </tr>\n",
       "    <tr>\n",
       "      <th>4</th>\n",
       "      <td>685574</td>\n",
       "      <td>255468</td>\n",
       "      <td>270436</td>\n",
       "      <td>1026</td>\n",
       "      <td>611308</td>\n",
       "      <td>51173</td>\n",
       "      <td>51173.0</td>\n",
       "      <td>420</td>\n",
       "      <td>686488.5</td>\n",
       "      <td>133368</td>\n",
       "      <td>...</td>\n",
       "      <td>6221</td>\n",
       "      <td>150</td>\n",
       "      <td>4379</td>\n",
       "      <td>542</td>\n",
       "      <td>2041</td>\n",
       "      <td>1656.0</td>\n",
       "      <td>1293.52</td>\n",
       "      <td>50514.5</td>\n",
       "      <td>63914</td>\n",
       "      <td>1</td>\n",
       "    </tr>\n",
       "  </tbody>\n",
       "</table>\n",
       "<p>5 rows × 21 columns</p>\n",
       "</div>"
      ],
      "text/plain": [
       "       C1      C2      C3    A1      A2     A3       A4   A5        M1  \\\n",
       "0   13444    2807    8643   384   11469   1934   1934.0    0   13224.0   \n",
       "1   39028    4771   27065  1326   36049   2665   2665.0  574   38197.5   \n",
       "2   46088   12044   29959   894   42451   3275   3275.0  236   46075.5   \n",
       "3   14247    9878    3213    54   11997   1872   1872.0    0   14619.5   \n",
       "4  685574  255468  270436  1026  611308  51173  51173.0  420  686488.5   \n",
       "\n",
       "       E1  ...    E3   E4    E5   L1    L2      S1       S2       S3     S4  \\\n",
       "0     404  ...   160    6   140   24    34    23.0    21.72   1922.0   1223   \n",
       "1    4033  ...   397   32   323   40   102    71.0    65.80   2629.5   1316   \n",
       "2     443  ...   694   30   461   60   300   183.0   183.00   3444.0   2013   \n",
       "3     272  ...   125    0    94    5    49    44.0    40.68   1850.0    318   \n",
       "4  133368  ...  6221  150  4379  542  2041  1656.0  1293.52  50514.5  63914   \n",
       "\n",
       "   level  \n",
       "0      1  \n",
       "1      1  \n",
       "2      1  \n",
       "3      1  \n",
       "4      1  \n",
       "\n",
       "[5 rows x 21 columns]"
      ]
     },
     "execution_count": 2,
     "metadata": {},
     "output_type": "execute_result"
    }
   ],
   "source": [
    "# Importing the training set from local pc \n",
    "df = pd.concat(\n",
    "    map(pd.read_csv, ['br1.csv']), ignore_index=True)\n",
    "df.head()"
   ]
  },
  {
   "cell_type": "code",
   "execution_count": 3,
   "id": "de4bfa25",
   "metadata": {},
   "outputs": [
    {
     "name": "stdout",
     "output_type": "stream",
     "text": [
      "<class 'pandas.core.frame.DataFrame'>\n",
      "RangeIndex: 658583 entries, 0 to 658582\n",
      "Data columns (total 21 columns):\n",
      " #   Column  Non-Null Count   Dtype  \n",
      "---  ------  --------------   -----  \n",
      " 0   C1      658583 non-null  int64  \n",
      " 1   C2      658583 non-null  int64  \n",
      " 2   C3      658583 non-null  int64  \n",
      " 3   A1      658583 non-null  int64  \n",
      " 4   A2      658583 non-null  int64  \n",
      " 5   A3      658583 non-null  int64  \n",
      " 6   A4      658583 non-null  float64\n",
      " 7   A5      658583 non-null  int64  \n",
      " 8   M1      658583 non-null  float64\n",
      " 9   E1      658583 non-null  int64  \n",
      " 10  E2      658583 non-null  int64  \n",
      " 11  E3      658583 non-null  int64  \n",
      " 12  E4      658583 non-null  int64  \n",
      " 13  E5      658583 non-null  int64  \n",
      " 14  L1      658583 non-null  int64  \n",
      " 15  L2      658583 non-null  int64  \n",
      " 16  S1      658583 non-null  float64\n",
      " 17  S2      658583 non-null  float64\n",
      " 18  S3      658583 non-null  float64\n",
      " 19  S4      658583 non-null  int64  \n",
      " 20  level   658583 non-null  int64  \n",
      "dtypes: float64(5), int64(16)\n",
      "memory usage: 105.5 MB\n"
     ]
    }
   ],
   "source": [
    "df.info()"
   ]
  },
  {
   "cell_type": "code",
   "execution_count": 4,
   "id": "67cd817e",
   "metadata": {},
   "outputs": [],
   "source": [
    "# Importing the training set for the year 1993-2010\n",
    "X_train = df.iloc[0:658583, :20].values\n",
    "y_train = df.iloc[0:658583, 20].values"
   ]
  },
  {
   "cell_type": "code",
   "execution_count": 5,
   "id": "3ffc4a23",
   "metadata": {},
   "outputs": [
    {
     "data": {
      "text/plain": [
       "<AxesSubplot:xlabel='Features', ylabel='Dollar (in thousand)'>"
      ]
     },
     "execution_count": 5,
     "metadata": {},
     "output_type": "execute_result"
    },
    {
     "data": {
      "image/png": "[encoded data removed]",
      "text/plain": [
       "<Figure size 1440x504 with 1 Axes>"
      ]
     },
     "metadata": {
      "needs_background": "light"
     },
     "output_type": "display_data"
    }
   ],
   "source": [
    "# # Before Feature Scaling\n",
    "import seaborn as sns\n",
    "plt.figure(figsize=(20, 7))\n",
    "plt.xlabel('Features')\n",
    "plt.ylabel('Dollar (in thousand)')\n",
    "sns.barplot( data = X_train, color = \"Black\")"
   ]
  },
  {
   "cell_type": "code",
   "execution_count": 6,
   "id": "bc56d872",
   "metadata": {},
   "outputs": [],
   "source": [
    "# Feature Scaling\n",
    "from sklearn.preprocessing import MinMaxScaler\n",
    "sc = MinMaxScaler(feature_range = (0, 1))\n",
    "X_train = sc.fit_transform(X_train)"
   ]
  },
  {
   "cell_type": "code",
   "execution_count": 7,
   "id": "4a8cb0ef",
   "metadata": {},
   "outputs": [
    {
     "data": {
      "text/plain": [
       "<AxesSubplot:xlabel='Features', ylabel='Dollar'>"
      ]
     },
     "execution_count": 7,
     "metadata": {},
     "output_type": "execute_result"
    },
    {
     "data": {
      "image/png": "[encoded data removed]",
      "text/plain": [
       "<Figure size 1440x504 with 1 Axes>"
      ]
     },
     "metadata": {
      "needs_background": "light"
     },
     "output_type": "display_data"
    }
   ],
   "source": [
    "# # After Feature Scaling [barplot]\n",
    "plt.figure(figsize=(20, 7))\n",
    "plt.ylim(0,1)\n",
    "plt.xlabel('Features')\n",
    "plt.ylabel('Dollar')\n",
    "sns.barplot( data = X_train, color = \"Black\")"
   ]
  },
  {
   "cell_type": "code",
   "execution_count": 8,
   "id": "c71d8a30",
   "metadata": {},
   "outputs": [],
   "source": [
    "# Reshaping\n",
    "X_train = np.reshape(X_train, (X_train.shape[0], X_train.shape[1], 1))"
   ]
  },
  {
   "cell_type": "code",
   "execution_count": 9,
   "id": "615aba1b",
   "metadata": {},
   "outputs": [],
   "source": [
    "# Part 2 - Now let's make the LSTM!\n",
    "\n",
    "# Importing the Keras libraries and packages\n",
    "import keras\n",
    "from keras.models import Sequential\n",
    "from keras.layers import Dense\n",
    "from keras.layers import LSTM\n",
    "from keras.layers import Dropout"
   ]
  },
  {
   "cell_type": "code",
   "execution_count": 10,
   "id": "e4fd774b",
   "metadata": {},
   "outputs": [
    {
     "name": "stdout",
     "output_type": "stream",
     "text": [
      "WARNING:tensorflow:From C:\\Users\\Lenovo\\AppData\\Local\\Temp\\ipykernel_9712\\4180400798.py:19: The name tf.keras.backend.set_session is deprecated. Please use tf.compat.v1.keras.backend.set_session instead.\n",
      "\n"
     ]
    },
    {
     "data": {
      "text/plain": [
       "<function keras.backend.set_session(session)>"
      ]
     },
     "execution_count": 10,
     "metadata": {},
     "output_type": "execute_result"
    }
   ],
   "source": [
    "seed_value= 0\n",
    "\n",
    "import os\n",
    "os.environ['PYTHONHASHSEED']=str(seed_value)\n",
    "\n",
    "import random\n",
    "random.seed(seed_value)\n",
    "\n",
    "import numpy as np\n",
    "np.random.seed(seed_value)\n",
    "\n",
    "import tensorflow as tf\n",
    "tf.random.set_seed(seed_value)\n",
    "\n",
    "from keras import backend as K\n",
    "session_conf = tf.compat.v1.ConfigProto(intra_op_parallelism_threads=1, inter_op_parallelism_threads=1)\n",
    "sess = tf.compat.v1.Session(graph=tf.compat.v1.get_default_graph(), config=session_conf)\n",
    "# tf.compat.v1.keras.backend.set_session(sess)\n",
    "tf.compat.v1.keras.backend.set_session"
   ]
  },
  {
   "cell_type": "code",
   "execution_count": 11,
   "id": "939a4082",
   "metadata": {},
   "outputs": [],
   "source": [
    "# Initialising the LSTM\n",
    "classifier = Sequential()\n",
    "\n",
    "# Adding the first LSTM layer and some Dropout regularisation\n",
    "classifier.add(LSTM(units = 20, return_sequences = True, activation='tanh'))\n",
    "classifier.add(Dropout(0.1))\n",
    "\n",
    "# Adding a second LSTM layer and some Dropout regularisation\n",
    "classifier.add(LSTM(units = 20, return_sequences = True, activation='tanh'))\n",
    "classifier.add(Dropout(0.1))\n",
    "\n",
    "# Adding a third LSTM layer and some Dropout regularisation\n",
    "classifier.add(LSTM(units = 20, return_sequences = True, activation='tanh'))\n",
    "classifier.add(Dropout(0.1))\n",
    "\n",
    "# Adding a fourth LSTM layer and some Dropout regularisation\n",
    "classifier.add(LSTM(units = 20, activation='relu'))\n",
    "classifier.add(Dropout(0.1))\n",
    "\n",
    "# Adding the output layer\n",
    "classifier.add(Dense(units = 1, activation='sigmoid'))\n",
    "\n",
    "# Compiling the LSTM\n",
    "classifier.compile(optimizer = 'adam', loss = 'binary_crossentropy', metrics = ['accuracy'])"
   ]
  },
  {
   "cell_type": "code",
   "execution_count": 12,
   "id": "5505c313",
   "metadata": {},
   "outputs": [],
   "source": [
    "# Saving Best Model Only\n",
    "import tensorflow as tf\n",
    "check_point = tf.keras.callbacks.ModelCheckpoint('Best_Classification_model_for_tanh.h5', monitor='accuracy', save_best_only=True)\n"
   ]
  },
  {
   "cell_type": "code",
   "execution_count": 13,
   "id": "996a45e7",
   "metadata": {},
   "outputs": [
    {
     "name": "stdout",
     "output_type": "stream",
     "text": [
      "Epoch 1/5\n",
      "2573/2573 [==============================] - 233s 84ms/step - loss: 0.0991 - accuracy: 0.9818\n",
      "Epoch 2/5\n",
      "2573/2573 [==============================] - 217s 84ms/step - loss: 0.0930 - accuracy: 0.9818\n",
      "Epoch 3/5\n",
      "2573/2573 [==============================] - 219s 85ms/step - loss: 0.0927 - accuracy: 0.9818\n",
      "Epoch 4/5\n",
      "2573/2573 [==============================] - 223s 87ms/step - loss: 0.0924 - accuracy: 0.9818\n",
      "Epoch 5/5\n",
      "2573/2573 [==============================] - 194s 76ms/step - loss: 0.0922 - accuracy: 0.9818\n"
     ]
    }
   ],
   "source": [
    "# Fitting the LSTM to the Training set\n",
    "classifier_history = classifier.fit(X_train, y_train, callbacks= [check_point], batch_size = 256, epochs = 5, verbose=1)"
   ]
  },
  {
   "cell_type": "code",
   "execution_count": 14,
   "id": "95c42ad3",
   "metadata": {},
   "outputs": [],
   "source": [
    "# Clear previous session\n",
    "from tensorflow import keras\n",
    "keras.backend.clear_session()"
   ]
  },
  {
   "cell_type": "code",
   "execution_count": 16,
   "id": "b608b7e0",
   "metadata": {},
   "outputs": [],
   "source": [
    "# # Load previously trained model\n",
    "classifier_history = keras.models.load_model(\"Best_Classification_model_for_tanh.h5\")"
   ]
  },
  {
   "cell_type": "code",
   "execution_count": 17,
   "id": "fdb748c7",
   "metadata": {},
   "outputs": [
    {
     "name": "stdout",
     "output_type": "stream",
     "text": [
      "Model: \"sequential\"\n",
      "_________________________________________________________________\n",
      " Layer (type)                Output Shape              Param #   \n",
      "=================================================================\n",
      " lstm (LSTM)                 (None, 20, 20)            1760      \n",
      "                                                                 \n",
      " dropout (Dropout)           (None, 20, 20)            0         \n",
      "                                                                 \n",
      " lstm_1 (LSTM)               (None, 20, 20)            3280      \n",
      "                                                                 \n",
      " dropout_1 (Dropout)         (None, 20, 20)            0         \n",
      "                                                                 \n",
      " lstm_2 (LSTM)               (None, 20, 20)            3280      \n",
      "                                                                 \n",
      " dropout_2 (Dropout)         (None, 20, 20)            0         \n",
      "                                                                 \n",
      " lstm_3 (LSTM)               (None, 20)                3280      \n",
      "                                                                 \n",
      " dropout_3 (Dropout)         (None, 20)                0         \n",
      "                                                                 \n",
      " dense (Dense)               (None, 1)                 21        \n",
      "                                                                 \n",
      "=================================================================\n",
      "Total params: 11,621\n",
      "Trainable params: 11,621\n",
      "Non-trainable params: 0\n",
      "_________________________________________________________________\n"
     ]
    }
   ],
   "source": [
    "# Model Summary\n",
    "classifier_history.summary()"
   ]
  },
  {
   "cell_type": "code",
   "execution_count": 18,
   "id": "fbf0da38",
   "metadata": {},
   "outputs": [
    {
     "data": {
      "text/plain": [
       "<keras.callbacks.History at 0x24e9c221f70>"
      ]
     },
     "execution_count": 18,
     "metadata": {},
     "output_type": "execute_result"
    }
   ],
   "source": [
    "classifier.history"
   ]
  },
  {
   "cell_type": "code",
   "execution_count": 19,
   "id": "d4cd6ac9",
   "metadata": {},
   "outputs": [
    {
     "data": {
      "text/html": [
       "<div>\n",
       "<style scoped>\n",
       "    .dataframe tbody tr th:only-of-type {\n",
       "        vertical-align: middle;\n",
       "    }\n",
       "\n",
       "    .dataframe tbody tr th {\n",
       "        vertical-align: top;\n",
       "    }\n",
       "\n",
       "    .dataframe thead th {\n",
       "        text-align: right;\n",
       "    }\n",
       "</style>\n",
       "<table border=\"1\" class=\"dataframe\">\n",
       "  <thead>\n",
       "    <tr style=\"text-align: right;\">\n",
       "      <th></th>\n",
       "      <th>C1</th>\n",
       "      <th>C2</th>\n",
       "      <th>C3</th>\n",
       "      <th>A1</th>\n",
       "      <th>A2</th>\n",
       "      <th>A3</th>\n",
       "      <th>A4</th>\n",
       "      <th>A5</th>\n",
       "      <th>M1</th>\n",
       "      <th>E1</th>\n",
       "      <th>...</th>\n",
       "      <th>E3</th>\n",
       "      <th>E4</th>\n",
       "      <th>E5</th>\n",
       "      <th>L1</th>\n",
       "      <th>L2</th>\n",
       "      <th>S1</th>\n",
       "      <th>S2</th>\n",
       "      <th>S3</th>\n",
       "      <th>S4</th>\n",
       "      <th>level</th>\n",
       "    </tr>\n",
       "  </thead>\n",
       "  <tbody>\n",
       "    <tr>\n",
       "      <th>0</th>\n",
       "      <td>748370</td>\n",
       "      <td>193936</td>\n",
       "      <td>510367</td>\n",
       "      <td>7819</td>\n",
       "      <td>608084</td>\n",
       "      <td>58364</td>\n",
       "      <td>58364</td>\n",
       "      <td>6382</td>\n",
       "      <td>722377.8</td>\n",
       "      <td>74291</td>\n",
       "      <td>...</td>\n",
       "      <td>21489</td>\n",
       "      <td>5273</td>\n",
       "      <td>13439</td>\n",
       "      <td>1746</td>\n",
       "      <td>6836</td>\n",
       "      <td>4786</td>\n",
       "      <td>5113.75</td>\n",
       "      <td>56391.6</td>\n",
       "      <td>11071</td>\n",
       "      <td>1</td>\n",
       "    </tr>\n",
       "    <tr>\n",
       "      <th>1</th>\n",
       "      <td>510742</td>\n",
       "      <td>48485</td>\n",
       "      <td>377401</td>\n",
       "      <td>13018</td>\n",
       "      <td>420490</td>\n",
       "      <td>39545</td>\n",
       "      <td>39545</td>\n",
       "      <td>20095</td>\n",
       "      <td>517694.0</td>\n",
       "      <td>38274</td>\n",
       "      <td>...</td>\n",
       "      <td>11039</td>\n",
       "      <td>15182</td>\n",
       "      <td>13213</td>\n",
       "      <td>2068</td>\n",
       "      <td>-16309</td>\n",
       "      <td>-14085</td>\n",
       "      <td>-14085.00</td>\n",
       "      <td>45337.0</td>\n",
       "      <td>38835</td>\n",
       "      <td>1</td>\n",
       "    </tr>\n",
       "    <tr>\n",
       "      <th>2</th>\n",
       "      <td>501381</td>\n",
       "      <td>95552</td>\n",
       "      <td>354725</td>\n",
       "      <td>11777</td>\n",
       "      <td>393896</td>\n",
       "      <td>50955</td>\n",
       "      <td>50955</td>\n",
       "      <td>12188</td>\n",
       "      <td>500400.8</td>\n",
       "      <td>31639</td>\n",
       "      <td>...</td>\n",
       "      <td>18798</td>\n",
       "      <td>2714</td>\n",
       "      <td>12399</td>\n",
       "      <td>1319</td>\n",
       "      <td>6791</td>\n",
       "      <td>4821</td>\n",
       "      <td>5100.75</td>\n",
       "      <td>49375.4</td>\n",
       "      <td>9737</td>\n",
       "      <td>1</td>\n",
       "    </tr>\n",
       "    <tr>\n",
       "      <th>3</th>\n",
       "      <td>456787</td>\n",
       "      <td>405474</td>\n",
       "      <td>0</td>\n",
       "      <td>2446</td>\n",
       "      <td>416827</td>\n",
       "      <td>30052</td>\n",
       "      <td>30052</td>\n",
       "      <td>0</td>\n",
       "      <td>382101.4</td>\n",
       "      <td>0</td>\n",
       "      <td>...</td>\n",
       "      <td>13235</td>\n",
       "      <td>0</td>\n",
       "      <td>22729</td>\n",
       "      <td>3271</td>\n",
       "      <td>6269</td>\n",
       "      <td>6366</td>\n",
       "      <td>6269.00</td>\n",
       "      <td>24694.8</td>\n",
       "      <td>41518</td>\n",
       "      <td>1</td>\n",
       "    </tr>\n",
       "    <tr>\n",
       "      <th>4</th>\n",
       "      <td>459553</td>\n",
       "      <td>40928</td>\n",
       "      <td>347259</td>\n",
       "      <td>11410</td>\n",
       "      <td>373109</td>\n",
       "      <td>43756</td>\n",
       "      <td>43756</td>\n",
       "      <td>8301</td>\n",
       "      <td>514716.2</td>\n",
       "      <td>81355</td>\n",
       "      <td>...</td>\n",
       "      <td>12325</td>\n",
       "      <td>12626</td>\n",
       "      <td>85900</td>\n",
       "      <td>1785</td>\n",
       "      <td>-85589</td>\n",
       "      <td>-80907</td>\n",
       "      <td>-80239.60</td>\n",
       "      <td>88174.8</td>\n",
       "      <td>7862</td>\n",
       "      <td>1</td>\n",
       "    </tr>\n",
       "  </tbody>\n",
       "</table>\n",
       "<p>5 rows × 21 columns</p>\n",
       "</div>"
      ],
      "text/plain": [
       "       C1      C2      C3     A1      A2     A3     A4     A5        M1  \\\n",
       "0  748370  193936  510367   7819  608084  58364  58364   6382  722377.8   \n",
       "1  510742   48485  377401  13018  420490  39545  39545  20095  517694.0   \n",
       "2  501381   95552  354725  11777  393896  50955  50955  12188  500400.8   \n",
       "3  456787  405474       0   2446  416827  30052  30052      0  382101.4   \n",
       "4  459553   40928  347259  11410  373109  43756  43756   8301  514716.2   \n",
       "\n",
       "      E1  ...     E3     E4     E5    L1     L2     S1        S2       S3  \\\n",
       "0  74291  ...  21489   5273  13439  1746   6836   4786   5113.75  56391.6   \n",
       "1  38274  ...  11039  15182  13213  2068 -16309 -14085 -14085.00  45337.0   \n",
       "2  31639  ...  18798   2714  12399  1319   6791   4821   5100.75  49375.4   \n",
       "3      0  ...  13235      0  22729  3271   6269   6366   6269.00  24694.8   \n",
       "4  81355  ...  12325  12626  85900  1785 -85589 -80907 -80239.60  88174.8   \n",
       "\n",
       "      S4  level  \n",
       "0  11071      1  \n",
       "1  38835      1  \n",
       "2   9737      1  \n",
       "3  41518      1  \n",
       "4   7862      1  \n",
       "\n",
       "[5 rows x 21 columns]"
      ]
     },
     "execution_count": 19,
     "metadata": {},
     "output_type": "execute_result"
    }
   ],
   "source": [
    "df = pd.concat(\n",
    "    map(pd.read_csv, ['br2.csv','br3.csv','br4.csv','br5.csv','br6.csv','br7.csv','br8.csv','br9.csv',]), ignore_index=True)\n",
    "df.head()"
   ]
  },
  {
   "cell_type": "code",
   "execution_count": 20,
   "id": "ee31062f",
   "metadata": {},
   "outputs": [
    {
     "name": "stdout",
     "output_type": "stream",
     "text": [
      "<class 'pandas.core.frame.DataFrame'>\n",
      "RangeIndex: 271845 entries, 0 to 271844\n",
      "Data columns (total 21 columns):\n",
      " #   Column  Non-Null Count   Dtype  \n",
      "---  ------  --------------   -----  \n",
      " 0   C1      271845 non-null  int64  \n",
      " 1   C2      271845 non-null  int64  \n",
      " 2   C3      271845 non-null  int64  \n",
      " 3   A1      271845 non-null  int64  \n",
      " 4   A2      271845 non-null  int64  \n",
      " 5   A3      271845 non-null  int64  \n",
      " 6   A4      271845 non-null  int64  \n",
      " 7   A5      271845 non-null  int64  \n",
      " 8   M1      271845 non-null  float64\n",
      " 9   E1      271845 non-null  int64  \n",
      " 10  E2      271845 non-null  int64  \n",
      " 11  E3      271845 non-null  int64  \n",
      " 12  E4      271845 non-null  int64  \n",
      " 13  E5      271845 non-null  int64  \n",
      " 14  L1      271845 non-null  int64  \n",
      " 15  L2      271845 non-null  int64  \n",
      " 16  S1      271845 non-null  int64  \n",
      " 17  S2      271845 non-null  float64\n",
      " 18  S3      271845 non-null  float64\n",
      " 19  S4      271845 non-null  int64  \n",
      " 20  level   271845 non-null  int64  \n",
      "dtypes: float64(3), int64(18)\n",
      "memory usage: 43.6 MB\n"
     ]
    }
   ],
   "source": [
    "df.info()"
   ]
  },
  {
   "cell_type": "code",
   "execution_count": 21,
   "id": "d73408c6",
   "metadata": {},
   "outputs": [],
   "source": [
    "# Importing the test set for the rest years\n",
    "X_test = df.iloc[0:271845, :20].values\n",
    "y_test = df.iloc[0:271845, 20].values"
   ]
  },
  {
   "cell_type": "code",
   "execution_count": 22,
   "id": "5a51d0c8",
   "metadata": {},
   "outputs": [],
   "source": [
    "# Feature Scaling\n",
    "from sklearn.preprocessing import MinMaxScaler\n",
    "sc = MinMaxScaler(feature_range = (0, 1))\n",
    "X_test = sc.fit_transform(X_test)"
   ]
  },
  {
   "cell_type": "code",
   "execution_count": 23,
   "id": "a408c0e2",
   "metadata": {},
   "outputs": [],
   "source": [
    "# Reshaping the test set for the rest years\n",
    "X_test = sc.transform(X_test)\n",
    "X_test = np.reshape(X_test, (X_test.shape[0], X_test.shape[1], 1))"
   ]
  },
  {
   "cell_type": "code",
   "execution_count": 24,
   "id": "87ce656c",
   "metadata": {},
   "outputs": [],
   "source": [
    "# Part 3 - Making predictions and evaluating the model\n",
    "# Predicting the Test set results for the rest years\n",
    "y_pred = classifier_history.predict(X_test)\n",
    "y_pred = (y_pred > 0.5)"
   ]
  },
  {
   "cell_type": "code",
   "execution_count": 25,
   "id": "a3cfad48",
   "metadata": {},
   "outputs": [
    {
     "name": "stdout",
     "output_type": "stream",
     "text": [
      "8496/8496 [==============================] - 70s 8ms/step - loss: 0.0684 - accuracy: 0.9872\n"
     ]
    },
    {
     "data": {
      "text/plain": [
       "[0.06841625273227692, 0.9872206449508667]"
      ]
     },
     "execution_count": 25,
     "metadata": {},
     "output_type": "execute_result"
    }
   ],
   "source": [
    "# Model evaluation for the rest years\n",
    "classifier_history.evaluate(X_test, y_test)"
   ]
  },
  {
   "cell_type": "code",
   "execution_count": 26,
   "id": "0b144105",
   "metadata": {},
   "outputs": [
    {
     "name": "stderr",
     "output_type": "stream",
     "text": [
      "C:\\Users\\Lenovo\\anaconda3\\envs\\tensorlfow-sessions\\lib\\site-packages\\sklearn\\metrics\\_classification.py:1327: UndefinedMetricWarning: Precision and F-score are ill-defined and being set to 0.0 in labels with no predicted samples. Use `zero_division` parameter to control this behavior.\n",
      "  _warn_prf(average, modifier, msg_start, len(result))\n"
     ]
    },
    {
     "data": {
      "text/plain": [
       "(0.9746046292233442, 0.9872206588313193, 0.9808720786915603, None)"
      ]
     },
     "execution_count": 26,
     "metadata": {},
     "output_type": "execute_result"
    }
   ],
   "source": [
    "# Precison, Recall & fscore for the rest years\n",
    "from sklearn.metrics import precision_recall_fscore_support\n",
    "precision_recall_fscore_support(y_test, y_pred, average='weighted')"
   ]
  },
  {
   "cell_type": "code",
   "execution_count": null,
   "id": "4e0d3b9a",
   "metadata": {},
   "outputs": [],
   "source": []
  }
 ],
 "metadata": {
  "kernelspec": {
   "display_name": "Python 3",
   "language": "python",
   "name": "python3"
  },
  "language_info": {
   "codemirror_mode": {
    "name": "ipython",
    "version": 3
   },
   "file_extension": ".py",
   "mimetype": "text/x-python",
   "name": "python",
   "nbconvert_exporter": "python",
   "pygments_lexer": "ipython3",
   "version": "3.9.12"
  }
 },
 "nbformat": 4,
 "nbformat_minor": 5
}
