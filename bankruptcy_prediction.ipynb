{
 "cells": [
  {
   "cell_type": "code",
   "execution_count": null,
   "id": "611f8c3b",
   "metadata": {},
   "outputs": [],
   "source": []
  },
  {
   "cell_type": "code",
   "execution_count": 1,
   "id": "38097999",
   "metadata": {},
   "outputs": [],
   "source": [
    "import math\n",
    "#import yfinance as yf\n",
    "import numpy as np\n",
    "import pandas as pd\n",
    "from sklearn.preprocessing import MinMaxScaler \n",
    "import matplotlib.pyplot as plt\n",
    "import tensorflow as tf\n",
    "from tensorflow import keras\n",
    "from tensorflow.keras import layers"
   ]
  },
  {
   "cell_type": "code",
   "execution_count": 3,
   "id": "1fa96346",
   "metadata": {},
   "outputs": [
    {
     "data": {
      "text/html": [
       "<div>\n",
       "<style scoped>\n",
       "    .dataframe tbody tr th:only-of-type {\n",
       "        vertical-align: middle;\n",
       "    }\n",
       "\n",
       "    .dataframe tbody tr th {\n",
       "        vertical-align: top;\n",
       "    }\n",
       "\n",
       "    .dataframe thead th {\n",
       "        text-align: right;\n",
       "    }\n",
       "</style>\n",
       "<table border=\"1\" class=\"dataframe\">\n",
       "  <thead>\n",
       "    <tr style=\"text-align: right;\">\n",
       "      <th></th>\n",
       "      <th>C1</th>\n",
       "      <th>C2</th>\n",
       "      <th>C3</th>\n",
       "      <th>A1</th>\n",
       "      <th>A2</th>\n",
       "      <th>A3</th>\n",
       "      <th>A4</th>\n",
       "      <th>A5</th>\n",
       "      <th>M1</th>\n",
       "      <th>E1</th>\n",
       "      <th>...</th>\n",
       "      <th>E3</th>\n",
       "      <th>E4</th>\n",
       "      <th>E5</th>\n",
       "      <th>L1</th>\n",
       "      <th>L2</th>\n",
       "      <th>S1</th>\n",
       "      <th>S2</th>\n",
       "      <th>S3</th>\n",
       "      <th>S4</th>\n",
       "      <th>level</th>\n",
       "    </tr>\n",
       "  </thead>\n",
       "  <tbody>\n",
       "    <tr>\n",
       "      <th>0</th>\n",
       "      <td>13444</td>\n",
       "      <td>2807</td>\n",
       "      <td>8643</td>\n",
       "      <td>384</td>\n",
       "      <td>11469</td>\n",
       "      <td>1934</td>\n",
       "      <td>1934.0</td>\n",
       "      <td>0</td>\n",
       "      <td>13224.0</td>\n",
       "      <td>404</td>\n",
       "      <td>...</td>\n",
       "      <td>160</td>\n",
       "      <td>6</td>\n",
       "      <td>140</td>\n",
       "      <td>24</td>\n",
       "      <td>34</td>\n",
       "      <td>23.0</td>\n",
       "      <td>21.72</td>\n",
       "      <td>1922.0</td>\n",
       "      <td>1223</td>\n",
       "      <td>1</td>\n",
       "    </tr>\n",
       "    <tr>\n",
       "      <th>1</th>\n",
       "      <td>39028</td>\n",
       "      <td>4771</td>\n",
       "      <td>27065</td>\n",
       "      <td>1326</td>\n",
       "      <td>36049</td>\n",
       "      <td>2665</td>\n",
       "      <td>2665.0</td>\n",
       "      <td>574</td>\n",
       "      <td>38197.5</td>\n",
       "      <td>4033</td>\n",
       "      <td>...</td>\n",
       "      <td>397</td>\n",
       "      <td>32</td>\n",
       "      <td>323</td>\n",
       "      <td>40</td>\n",
       "      <td>102</td>\n",
       "      <td>71.0</td>\n",
       "      <td>65.80</td>\n",
       "      <td>2629.5</td>\n",
       "      <td>1316</td>\n",
       "      <td>1</td>\n",
       "    </tr>\n",
       "    <tr>\n",
       "      <th>2</th>\n",
       "      <td>46088</td>\n",
       "      <td>12044</td>\n",
       "      <td>29959</td>\n",
       "      <td>894</td>\n",
       "      <td>42451</td>\n",
       "      <td>3275</td>\n",
       "      <td>3275.0</td>\n",
       "      <td>236</td>\n",
       "      <td>46075.5</td>\n",
       "      <td>443</td>\n",
       "      <td>...</td>\n",
       "      <td>694</td>\n",
       "      <td>30</td>\n",
       "      <td>461</td>\n",
       "      <td>60</td>\n",
       "      <td>300</td>\n",
       "      <td>183.0</td>\n",
       "      <td>183.00</td>\n",
       "      <td>3444.0</td>\n",
       "      <td>2013</td>\n",
       "      <td>1</td>\n",
       "    </tr>\n",
       "    <tr>\n",
       "      <th>3</th>\n",
       "      <td>14247</td>\n",
       "      <td>9878</td>\n",
       "      <td>3213</td>\n",
       "      <td>54</td>\n",
       "      <td>11997</td>\n",
       "      <td>1872</td>\n",
       "      <td>1872.0</td>\n",
       "      <td>0</td>\n",
       "      <td>14619.5</td>\n",
       "      <td>272</td>\n",
       "      <td>...</td>\n",
       "      <td>125</td>\n",
       "      <td>0</td>\n",
       "      <td>94</td>\n",
       "      <td>5</td>\n",
       "      <td>49</td>\n",
       "      <td>44.0</td>\n",
       "      <td>40.68</td>\n",
       "      <td>1850.0</td>\n",
       "      <td>318</td>\n",
       "      <td>1</td>\n",
       "    </tr>\n",
       "    <tr>\n",
       "      <th>4</th>\n",
       "      <td>685574</td>\n",
       "      <td>255468</td>\n",
       "      <td>270436</td>\n",
       "      <td>1026</td>\n",
       "      <td>611308</td>\n",
       "      <td>51173</td>\n",
       "      <td>51173.0</td>\n",
       "      <td>420</td>\n",
       "      <td>686488.5</td>\n",
       "      <td>133368</td>\n",
       "      <td>...</td>\n",
       "      <td>6221</td>\n",
       "      <td>150</td>\n",
       "      <td>4379</td>\n",
       "      <td>542</td>\n",
       "      <td>2041</td>\n",
       "      <td>1656.0</td>\n",
       "      <td>1293.52</td>\n",
       "      <td>50514.5</td>\n",
       "      <td>63914</td>\n",
       "      <td>1</td>\n",
       "    </tr>\n",
       "  </tbody>\n",
       "</table>\n",
       "<p>5 rows × 21 columns</p>\n",
       "</div>"
      ],
      "text/plain": [
       "       C1      C2      C3    A1      A2     A3       A4   A5        M1  \\\n",
       "0   13444    2807    8643   384   11469   1934   1934.0    0   13224.0   \n",
       "1   39028    4771   27065  1326   36049   2665   2665.0  574   38197.5   \n",
       "2   46088   12044   29959   894   42451   3275   3275.0  236   46075.5   \n",
       "3   14247    9878    3213    54   11997   1872   1872.0    0   14619.5   \n",
       "4  685574  255468  270436  1026  611308  51173  51173.0  420  686488.5   \n",
       "\n",
       "       E1  ...    E3   E4    E5   L1    L2      S1       S2       S3     S4  \\\n",
       "0     404  ...   160    6   140   24    34    23.0    21.72   1922.0   1223   \n",
       "1    4033  ...   397   32   323   40   102    71.0    65.80   2629.5   1316   \n",
       "2     443  ...   694   30   461   60   300   183.0   183.00   3444.0   2013   \n",
       "3     272  ...   125    0    94    5    49    44.0    40.68   1850.0    318   \n",
       "4  133368  ...  6221  150  4379  542  2041  1656.0  1293.52  50514.5  63914   \n",
       "\n",
       "   level  \n",
       "0      1  \n",
       "1      1  \n",
       "2      1  \n",
       "3      1  \n",
       "4      1  \n",
       "\n",
       "[5 rows x 21 columns]"
      ]
     },
     "execution_count": 3,
     "metadata": {},
     "output_type": "execute_result"
    }
   ],
   "source": [
    "df = pd.concat(\n",
    "    map(pd.read_csv, ['br1.csv','br2.csv','br3.csv','br4.csv','br5.csv','br6.csv','br7.csv','br8.csv','br9.csv',]), ignore_index=True)\n",
    "df.head()"
   ]
  },
  {
   "cell_type": "code",
   "execution_count": 4,
   "id": "ce7518e5",
   "metadata": {},
   "outputs": [
    {
     "data": {
      "text/plain": [
       "C1         int64\n",
       "C2         int64\n",
       "C3         int64\n",
       "A1         int64\n",
       "A2         int64\n",
       "A3         int64\n",
       "A4       float64\n",
       "A5         int64\n",
       "M1       float64\n",
       "E1         int64\n",
       "E2         int64\n",
       "E3         int64\n",
       "E4         int64\n",
       "E5         int64\n",
       "L1         int64\n",
       "L2         int64\n",
       "S1       float64\n",
       "S2       float64\n",
       "S3       float64\n",
       "S4         int64\n",
       "level      int64\n",
       "dtype: object"
      ]
     },
     "execution_count": 4,
     "metadata": {},
     "output_type": "execute_result"
    }
   ],
   "source": [
    "df.dtypes"
   ]
  },
  {
   "cell_type": "code",
   "execution_count": 6,
   "id": "b6bfd9b3",
   "metadata": {
    "scrolled": true
   },
   "outputs": [],
   "source": [
    "df = df.astype(int)"
   ]
  },
  {
   "cell_type": "code",
   "execution_count": 7,
   "id": "d6edb2e2",
   "metadata": {},
   "outputs": [
    {
     "data": {
      "text/plain": [
       "C1       int32\n",
       "C2       int32\n",
       "C3       int32\n",
       "A1       int32\n",
       "A2       int32\n",
       "A3       int32\n",
       "A4       int32\n",
       "A5       int32\n",
       "M1       int32\n",
       "E1       int32\n",
       "E2       int32\n",
       "E3       int32\n",
       "E4       int32\n",
       "E5       int32\n",
       "L1       int32\n",
       "L2       int32\n",
       "S1       int32\n",
       "S2       int32\n",
       "S3       int32\n",
       "S4       int32\n",
       "level    int32\n",
       "dtype: object"
      ]
     },
     "execution_count": 7,
     "metadata": {},
     "output_type": "execute_result"
    }
   ],
   "source": [
    "df.dtypes"
   ]
  },
  {
   "cell_type": "markdown",
   "id": "d0bff5a2",
   "metadata": {},
   "source": [
    "# prep training set"
   ]
  },
  {
   "cell_type": "code",
   "execution_count": 12,
   "id": "265fa908",
   "metadata": {},
   "outputs": [],
   "source": [
    " factors = df.iloc[:,:-1]\n",
    "\n",
    "values = factors.values\n",
    "training_data_len = math.ceil(len(values)* 0.8)\n",
    "\n",
    "scaler = MinMaxScaler(feature_range=(0,1))\n",
    "scaled_data = scaler.fit_transform(values.reshape(-1,1))\n",
    "train_data = scaled_data[0: training_data_len, :]\n",
    "\n",
    "x_train = []\n",
    "y_train = []\n",
    "\n",
    "for i in range(1, len(train_data)):\n",
    "    x_train.append(train_data[i-1:i, 0])\n",
    "    y_train.append(train_data[i, 0])\n",
    "    \n",
    "x_train, y_train = np.array(x_train), np.array(y_train)\n",
    "x_train = np.reshape(x_train, (x_train.shape[0], x_train.shape[1], 1))"
   ]
  },
  {
   "cell_type": "markdown",
   "id": "a1aaccdf",
   "metadata": {},
   "source": [
    "# prep test set"
   ]
  },
  {
   "cell_type": "code",
   "execution_count": 13,
   "id": "f2a65e9d",
   "metadata": {
    "scrolled": true
   },
   "outputs": [],
   "source": [
    "test_data = scaled_data[training_data_len-1: , : ]\n",
    "x_test = []\n",
    "y_test = values[training_data_len:]\n",
    "\n",
    "for i in range(60, len(test_data)):\n",
    "  x_test.append(test_data[i-1:i, 0])\n",
    "\n",
    "x_test = np.array(x_test)\n",
    "x_test = np.reshape(x_test, (x_test.shape[0], x_test.shape[1], 1))"
   ]
  },
  {
   "cell_type": "markdown",
   "id": "15760530",
   "metadata": {},
   "source": [
    "# setup of lstm structure"
   ]
  },
  {
   "cell_type": "code",
   "execution_count": 14,
   "id": "1b53aa03",
   "metadata": {
    "scrolled": true
   },
   "outputs": [
    {
     "name": "stdout",
     "output_type": "stream",
     "text": [
      "Model: \"sequential\"\n",
      "_________________________________________________________________\n",
      " Layer (type)                Output Shape              Param #   \n",
      "=================================================================\n",
      " lstm (LSTM)                 (None, 1, 100)            40800     \n",
      "                                                                 \n",
      " lstm_1 (LSTM)               (None, 100)               80400     \n",
      "                                                                 \n",
      " dense (Dense)               (None, 25)                2525      \n",
      "                                                                 \n",
      " dense_1 (Dense)             (None, 1)                 26        \n",
      "                                                                 \n",
      "=================================================================\n",
      "Total params: 123,751\n",
      "Trainable params: 123,751\n",
      "Non-trainable params: 0\n",
      "_________________________________________________________________\n"
     ]
    }
   ],
   "source": [
    "model = keras.Sequential()\n",
    "model.add(layers.LSTM(100, return_sequences=True, input_shape=(x_train.shape[1], 1)))\n",
    "model.add(layers.LSTM(100, return_sequences=False))\n",
    "model.add(layers.Dense(25))\n",
    "model.add(layers.Dense(1))\n",
    "model.summary()"
   ]
  },
  {
   "cell_type": "markdown",
   "id": "1b127963",
   "metadata": {},
   "source": [
    "# training lstm model"
   ]
  },
  {
   "cell_type": "code",
   "execution_count": 15,
   "id": "17129f5c",
   "metadata": {},
   "outputs": [
    {
     "name": "stdout",
     "output_type": "stream",
     "text": [
      "Epoch 1/3\n",
      "744342/744342 [==============================] - 2533s 3ms/step - loss: 5.9174e-07\n",
      "Epoch 2/3\n",
      "744342/744342 [==============================] - 2658s 4ms/step - loss: 5.9017e-07\n",
      "Epoch 3/3\n",
      "744342/744342 [==============================] - 2468s 3ms/step - loss: 5.8874e-07\n"
     ]
    },
    {
     "data": {
      "text/plain": [
       "<keras.callbacks.History at 0x17d81e10820>"
      ]
     },
     "execution_count": 15,
     "metadata": {},
     "output_type": "execute_result"
    }
   ],
   "source": [
    "model.compile(optimizer='adam', loss='mean_squared_error')\n",
    "model.fit(x_train, y_train, batch_size= 1, epochs=3)"
   ]
  },
  {
   "cell_type": "markdown",
   "id": "e658f143",
   "metadata": {},
   "source": [
    "# model evaluation"
   ]
  },
  {
   "cell_type": "code",
   "execution_count": 16,
   "id": "844373ba",
   "metadata": {},
   "outputs": [
    {
     "ename": "ValueError",
     "evalue": "operands could not be broadcast together with shapes (17864158,1) (186085,20) ",
     "output_type": "error",
     "traceback": [
      "\u001b[1;31m---------------------------------------------------------------------------\u001b[0m",
      "\u001b[1;31mValueError\u001b[0m                                Traceback (most recent call last)",
      "Input \u001b[1;32mIn [16]\u001b[0m, in \u001b[0;36m<cell line: 3>\u001b[1;34m()\u001b[0m\n\u001b[0;32m      1\u001b[0m predictions \u001b[38;5;241m=\u001b[39m model\u001b[38;5;241m.\u001b[39mpredict(x_test)\n\u001b[0;32m      2\u001b[0m predictions \u001b[38;5;241m=\u001b[39m scaler\u001b[38;5;241m.\u001b[39minverse_transform(predictions)\n\u001b[1;32m----> 3\u001b[0m rmse \u001b[38;5;241m=\u001b[39m np\u001b[38;5;241m.\u001b[39msqrt(np\u001b[38;5;241m.\u001b[39mmean(\u001b[43mpredictions\u001b[49m\u001b[43m \u001b[49m\u001b[38;5;241;43m-\u001b[39;49m\u001b[43m \u001b[49m\u001b[43my_test\u001b[49m)\u001b[38;5;241m*\u001b[39m\u001b[38;5;241m*\u001b[39m\u001b[38;5;241m2\u001b[39m)\n\u001b[0;32m      4\u001b[0m rmse\n",
      "\u001b[1;31mValueError\u001b[0m: operands could not be broadcast together with shapes (17864158,1) (186085,20) "
     ]
    }
   ],
   "source": [
    "predictions = model.predict(x_test)\n",
    "predictions = scaler.inverse_transform(predictions)\n",
    "rmse = np.sqrt(np.mean(predictions - y_test)**2)\n",
    "rmse"
   ]
  },
  {
   "cell_type": "code",
   "execution_count": null,
   "id": "11613d2c",
   "metadata": {},
   "outputs": [],
   "source": []
  }
 ],
 "metadata": {
  "kernelspec": {
   "display_name": "Python 3",
   "language": "python",
   "name": "python3"
  },
  "language_info": {
   "codemirror_mode": {
    "name": "ipython",
    "version": 3
   },
   "file_extension": ".py",
   "mimetype": "text/x-python",
   "name": "python",
   "nbconvert_exporter": "python",
   "pygments_lexer": "ipython3",
   "version": "3.9.12"
  }
 },
 "nbformat": 4,
 "nbformat_minor": 5
}
